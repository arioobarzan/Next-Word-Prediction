{
 "cells": [
  {
   "cell_type": "code",
   "execution_count": 2,
   "id": "dcb5624a",
   "metadata": {},
   "outputs": [],
   "source": [
    "# Importing the Libraries\n",
    "\n",
    "from tensorflow.keras.models import load_model\n",
    "import numpy as np\n",
    "import pickle\n",
    "\n",
    "# Load the model and tokenizer\n",
    "\n",
    "model = load_model('nextword-qa.h5')\n",
    "tokenizer = pickle.load(open('tokenizer/tokenizer-qa.pkl', 'rb'))"
   ]
  },
  {
   "cell_type": "code",
   "execution_count": 11,
   "id": "03223cff",
   "metadata": {},
   "outputs": [],
   "source": [
    "def Predict_Next_Words(model, tokenizer, text):\n",
    "    #print(text)\n",
    "    sequence = tokenizer.texts_to_sequences([text])[0]\n",
    "    sequence = np.array(sequence)\n",
    "    res = []\n",
    "    preds = model.predict(sequence)\n",
    "    preds1= np.flip(np.argsort(preds,axis=1))\n",
    "    preds = np.argmax(preds,axis=1)\n",
    "    res.append((preds1[0][0]))\n",
    "    res.append((preds1[0][1]))\n",
    "    res.append((preds1[0][2]))\n",
    "    #print(len(res))\n",
    "    predicted_word = \"\"\n",
    "    predicted_words = []\n",
    "\n",
    "    for key, value in tokenizer.word_index.items():\n",
    "        if value in res:\n",
    "            predicted_words.append(key)\n",
    "            #print(key)\n",
    "            #break\n",
    "\n",
    "    #print(len(predicted_word))\n",
    "    return predicted_words"
   ]
  },
  {
   "cell_type": "code",
   "execution_count": 12,
   "id": "65c51248",
   "metadata": {},
   "outputs": [
    {
     "name": "stdout",
     "output_type": "stream",
     "text": [
      "['the', 'there', 'a']\n"
     ]
    }
   ],
   "source": [
    "\n",
    "text = \"Obviously\";\n",
    "export = Predict_Next_Words(model, tokenizer, text)\n",
    "print(export)"
   ]
  },
  {
   "cell_type": "code",
   "execution_count": 13,
   "id": "b003533c",
   "metadata": {},
   "outputs": [
    {
     "name": "stdout",
     "output_type": "stream",
     "text": [
      "Enter your line: art\n",
      " art form that is just the same as a dog\n"
     ]
    }
   ],
   "source": [
    "c = 0\n",
    "text = input(\"Enter your line: \")\n",
    "sentence = \"\"\n",
    "while(c<10):\n",
    "    sentence = sentence + \" \" + text\n",
    "\n",
    "\n",
    "    try:\n",
    "        \n",
    "        text = Predict_Next_Words(model, tokenizer, text)[1]\n",
    "        c = c + 1\n",
    "    except:\n",
    "        continue\n",
    "print(sentence)"
   ]
  },
  {
   "cell_type": "code",
   "execution_count": null,
   "id": "9b82ed65",
   "metadata": {},
   "outputs": [],
   "source": []
  }
 ],
 "metadata": {
  "kernelspec": {
   "display_name": "Python 3",
   "language": "python",
   "name": "python3"
  },
  "language_info": {
   "codemirror_mode": {
    "name": "ipython",
    "version": 3
   },
   "file_extension": ".py",
   "mimetype": "text/x-python",
   "name": "python",
   "nbconvert_exporter": "python",
   "pygments_lexer": "ipython3",
   "version": "3.6.13"
  }
 },
 "nbformat": 4,
 "nbformat_minor": 5
}

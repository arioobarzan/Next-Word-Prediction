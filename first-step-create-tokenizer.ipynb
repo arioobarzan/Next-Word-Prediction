{
 "cells": [
  {
   "cell_type": "markdown",
   "id": "5349a436",
   "metadata": {},
   "source": [
    "# Next Word Prediction:"
   ]
  },
  {
   "cell_type": "markdown",
   "id": "03fcf32c",
   "metadata": {},
   "source": [
    "### Importing The Required Libraries:"
   ]
  },
  {
   "cell_type": "code",
   "execution_count": 1,
   "id": "04b374fd",
   "metadata": {},
   "outputs": [],
   "source": [
    "import os\n",
    "import os.path\n",
    "import string\n",
    "from tensorflow.keras.preprocessing.text import Tokenizer\n",
    "from itertools import chain\n",
    "import pickle"
   ]
  },
  {
   "cell_type": "markdown",
   "id": "b17d9489",
   "metadata": {},
   "source": [
    "### Read file"
   ]
  },
  {
   "cell_type": "code",
   "execution_count": 2,
   "id": "e6bc281b",
   "metadata": {},
   "outputs": [
    {
     "name": "stdout",
     "output_type": "stream",
     "text": [
      "222888\n"
     ]
    }
   ],
   "source": [
    "#jupyter notebook --NotebookApp.iopub_data_rate_limit=10000000\n",
    "filename = \"qa-1M\"\n",
    "file = open(\"data/\" + filename + \".txt\", \"r\", encoding = \"utf8\")\n",
    "lines = []\n",
    "l = 0\n",
    "for i in file:\n",
    "    lines.append(i)\n",
    "    l = l + 1\n",
    "    if (l > 5):\n",
    "        print(\"The First Line: \", lines[0])\n",
    "        print(\"The Last Line: \", lines[-1])\n",
    "    else:\n",
    "        print(len(lines[0]))"
   ]
  },
  {
   "cell_type": "markdown",
   "id": "e2b572b1",
   "metadata": {},
   "source": [
    "### Remove all lines"
   ]
  },
  {
   "cell_type": "code",
   "execution_count": 3,
   "id": "ac8c18dc",
   "metadata": {},
   "outputs": [
    {
     "data": {
      "text/plain": [
       "\"Are you a fan of Google or Microsoft? Both are excellent technology they are helpful in many ways. For the security purpose both are super.  I'm not  a huge fan of Google, but I use it a lot because I have to. I think they are a monopoly in some sense.   Google provides online related services and products, which includes online ads, search engine and cloud \""
      ]
     },
     "execution_count": 3,
     "metadata": {},
     "output_type": "execute_result"
    }
   ],
   "source": [
    "data = \"\"\n",
    "for i in lines:\n",
    "    data = ' '. join(lines)\n",
    "data = data.replace('\\n', '').replace('\\r', '').replace('\\ufeff', '')\n",
    "data[:360]"
   ]
  },
  {
   "cell_type": "markdown",
   "id": "55a2b733",
   "metadata": {},
   "source": [
    "### Remove all symbols"
   ]
  },
  {
   "cell_type": "code",
   "execution_count": 4,
   "id": "e1c42041",
   "metadata": {},
   "outputs": [
    {
     "data": {
      "text/plain": [
       "'Are you a fan of Google or Microsoft Both are excellent technology they are helpful in many ways For the security purpose both are super I m not a huge fan of Google but I use it a lot because I have to I think they are a monopoly in some sense Google provides online related services and products which includes online ads search engine and cloud computing Yeah their services are good I m just not a fan of intrusive they can be on our personal lives Google is leading the alphabet subsidiary and w'"
      ]
     },
     "execution_count": 4,
     "metadata": {},
     "output_type": "execute_result"
    }
   ],
   "source": [
    "translator = str.maketrans(string.punctuation, ' '*len(string.punctuation)) #map punctuation to space\n",
    "data = data.translate(translator)\n",
    "data = data.replace('  ', ' ').replace('  ', ' ')\n",
    "data[:500]"
   ]
  },
  {
   "cell_type": "markdown",
   "id": "32e49e7f",
   "metadata": {},
   "source": [
    "### Extract unique words"
   ]
  },
  {
   "cell_type": "code",
   "execution_count": 5,
   "id": "9a7ff140",
   "metadata": {},
   "outputs": [
    {
     "name": "stdout",
     "output_type": "stream",
     "text": [
      "5099\n"
     ]
    },
    {
     "data": {
      "text/plain": [
       "'satirical seahorse Larry Potter Other concept womens any mickey mimic hew commercial subculture cent robot perfect 16 programs Whoa gives completely stepping Adams flop Horrors air backs 5 Sad capable initials Mb Netflix World among 69 build driving scary poetics guinea asteroid afraid painted Isn totally Bay Biden Dogs party eureka matters Western improved Grilling Kingdom 1900 occasionally cheating july supporting PHD bless drama vencing cat cats better regressed tilts mind rep basics rat Very'"
      ]
     },
     "execution_count": 5,
     "metadata": {},
     "output_type": "execute_result"
    }
   ],
   "source": [
    "z = set(chain(*(line.split() for line in data.split() if line)))\n",
    "print(len(z))\n",
    "\n",
    "unique_words = ' '.join(z)\n",
    "\n",
    "unique_words[:500]"
   ]
  },
  {
   "cell_type": "markdown",
   "id": "92179333",
   "metadata": {},
   "source": [
    "### Save Tokenizer and cleaned file"
   ]
  },
  {
   "cell_type": "code",
   "execution_count": 6,
   "id": "b72b82d7",
   "metadata": {},
   "outputs": [],
   "source": [
    "tokenizer = Tokenizer()\n",
    "tokenizer.fit_on_texts([unique_words])\n",
    "\n",
    "# saving the tokenizer for predict function.\n",
    "pickle.dump(tokenizer, open('tokenizer/tokenizer-'+filename+'.pkl', 'wb'))\n",
    "\n",
    "\n",
    "\n",
    "with open(\"data/\" + filename + \"-cleaned.txt\", 'w') as output:\n",
    "    output.write(data)\n"
   ]
  },
  {
   "cell_type": "code",
   "execution_count": 7,
   "id": "94a60de6",
   "metadata": {},
   "outputs": [
    {
     "name": "stdout",
     "output_type": "stream",
     "text": [
      "[[331], [1306], [4338], [], [], [229], [311], [], [331], []]\n"
     ]
    }
   ],
   "source": [
    "print(tokenizer.texts_to_sequences(data[:10]))"
   ]
  },
  {
   "cell_type": "code",
   "execution_count": null,
   "id": "369e7de4",
   "metadata": {},
   "outputs": [],
   "source": []
  }
 ],
 "metadata": {
  "kernelspec": {
   "display_name": "Python 3",
   "language": "python",
   "name": "python3"
  },
  "language_info": {
   "codemirror_mode": {
    "name": "ipython",
    "version": 3
   },
   "file_extension": ".py",
   "mimetype": "text/x-python",
   "name": "python",
   "nbconvert_exporter": "python",
   "pygments_lexer": "ipython3",
   "version": "3.6.13"
  }
 },
 "nbformat": 4,
 "nbformat_minor": 5
}
